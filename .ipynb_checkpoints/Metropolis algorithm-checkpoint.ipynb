{
 "cells": [
  {
   "cell_type": "code",
   "execution_count": null,
   "metadata": {},
   "outputs": [],
   "source": [
    "using Plots\n",
    "using Distributions\n",
    "using StatsBase\n",
    "\n",
    "#using Plotly\n",
    "plotly()"
   ]
  },
  {
   "cell_type": "markdown",
   "metadata": {},
   "source": [
    "### Simple discrete Metropolis algorithm"
   ]
  },
  {
   "cell_type": "markdown",
   "metadata": {},
   "source": [
    "In a simple discrete version of the metropolis algorithm, we take a discretized probability distribution $D$, and we generate a random walk on it. \n",
    "\n",
    "We start from a random position $x_0$. At each iteration: \n",
    "1. we randomly pick our move $m$ sampling randomly from $\\{-1, 1\\}$. \n",
    "2. We calculate the probability of accepting the move as\n",
    "\n",
    "$$p_{move} = min\\left(\\frac{D(x_i+m)}{D(x_i)}, 1\\right)$$\n",
    "\n",
    "3. Then, we sample with this probability to decide whether to move or not."
   ]
  },
  {
   "cell_type": "code",
   "execution_count": null,
   "metadata": {},
   "outputs": [],
   "source": [
    "function move_on_discr_dist(idx, distribution)\n",
    "    \"\"\"Generate steps for a random walk using Metropolis algorithm.\n",
    "    \"\"\"\n",
    "    # 1. Decide to move left or right:\n",
    "    m = Int(rand(Bool)) * 2 -1\n",
    "    \n",
    "    if 1 <= idx + m < length(distribution) + 1\n",
    "        # 2. Compare distribution values to get p:\n",
    "        p_move = min(distribution[idx + m] / distribution[idx], 1)\n",
    "        \n",
    "        # 3. Accept move with prob. p_move:\n",
    "        idx = idx + m * (rand() < p_move)\n",
    "        #println(idx)\n",
    "    end\n",
    "    return idx\n",
    "\n",
    "end\n",
    "\n",
    "function discrete_metro(distribution, n_steps)\n",
    "    \"\"\"Generate a complete Metropolis sampling over a given distribution.\n",
    "    \"\"\"\n",
    "    \n",
    "    log = Array{Int32}(undef, n_steps)\n",
    "    \n",
    "    # Seed the chain at a random point of the distribution:\n",
    "    log[1] = rand(1:length(distribution))\n",
    "    \n",
    "    for i in 2:n_steps\n",
    "        log[i] = move_on_discr_dist(log[i-1], distribution)\n",
    "    end\n",
    "    \n",
    "    return log\n",
    "end\n"
   ]
  },
  {
   "cell_type": "markdown",
   "metadata": {},
   "source": [
    "Let's use these functions to estimate a given distribution:"
   ]
  },
  {
   "cell_type": "code",
   "execution_count": null,
   "metadata": {},
   "outputs": [],
   "source": [
    "# Start from a distribution that we need to estimate.\n",
    "# Here we use a simple double triangular distribution:\n",
    "target_dist = [1:10; 9:-1:1; 1:5; 4:-1:1];"
   ]
  },
  {
   "cell_type": "code",
   "execution_count": null,
   "metadata": {},
   "outputs": [],
   "source": [
    "bar(target_dist, size=(500,300), xlabel=\"Value\", ylabel=\"Frequency\")"
   ]
  },
  {
   "cell_type": "code",
   "execution_count": null,
   "metadata": {},
   "outputs": [],
   "source": [
    "n_steps = 10000000\n",
    "# generate the random sampling:\n",
    "walk = discrete_metro(target_dist, n_steps);"
   ]
  },
  {
   "cell_type": "code",
   "execution_count": null,
   "metadata": {},
   "outputs": [],
   "source": [
    "# Display the random walk:\n",
    "plot(walk[1:1000], xaxis=:log, xlabel=\"Step n\", ylabel=\"Value\",  size=(500,300))"
   ]
  },
  {
   "cell_type": "code",
   "execution_count": null,
   "metadata": {},
   "outputs": [],
   "source": [
    "# calculate and plot histogram\n",
    "walk_dist = fit(Histogram, walk, 0:length(target_dist));\n",
    "bar(walk_dist, size=(500,300), xlabel=\"Value\", ylabel=\"Frequency\", title=\"Estimated distribution\")"
   ]
  },
  {
   "cell_type": "markdown",
   "metadata": {},
   "source": [
    "## Continuous example"
   ]
  },
  {
   "cell_type": "markdown",
   "metadata": {},
   "source": [
    "To extend to a continuous distribution, we will use a similar approach. Now, the next move will be sampled from a Normal distribution with $\\mu=0$ and predefined $\\sigma$. Accepting or not the move will use exactly the same procedure."
   ]
  },
  {
   "cell_type": "code",
   "execution_count": null,
   "metadata": {},
   "outputs": [],
   "source": [
    "function gauss_step_on_dist(curr_x::Float64, funct::Function; step_dev=0.1, xmin=0., xmax=1.)\n",
    "    # 1. Generate step from normal distribution:\n",
    "    m = randn() * step_dev\n",
    "    \n",
    "    if xmin <= curr_x + m < xmax\n",
    "    # 2. Compare distribution values to get p:\n",
    "        p_move = min(funct(curr_x + m) / funct(curr_x), 1)\n",
    "\n",
    "        # 3. Accept move with prob. p_move:\n",
    "        curr_x = curr_x + m * (rand() < p_move)\n",
    "    end\n",
    "    return curr_x\n",
    "end\n",
    "\n",
    "function continuous_metrop(funct, n_steps; xmin=0., xmax=1., step_dev=0.1)\n",
    "    log = Array{Float64}(undef, n_steps)\n",
    "    \n",
    "    # Seed the chain at a random point of the distribution:\n",
    "    log[1] = rand() * (xmax - xmin) + xmin\n",
    "    \n",
    "    for i in 2:n_steps\n",
    "        log[i] = gauss_step_on_dist(log[i-1], funct)\n",
    "    end\n",
    "    \n",
    "    return log\n",
    "end"
   ]
  },
  {
   "cell_type": "markdown",
   "metadata": {},
   "source": [
    "Let's create some functions to estimate:"
   ]
  },
  {
   "cell_type": "code",
   "execution_count": null,
   "metadata": {},
   "outputs": [],
   "source": [
    "# A simple inverse parabola:\n",
    "a_parabola(x) = -(2x-1)^2 + 1\n",
    "\n",
    "# A bimodal distribution:\n",
    "gauss(x, μ, σ) = (1/√(2π)σ)*exp(-(x-μ)^2/(2σ^2))\n",
    "bimodal(x, μ1, σ1, μ2, σ2) = gauss(x, μ1, σ1) + gauss(x, μ2, σ2)\n",
    "a_bimodal(x) = bimodal(x, 0.2, 0.1, 0.7, 0.2)"
   ]
  },
  {
   "cell_type": "markdown",
   "metadata": {},
   "source": [
    "And generate a walk on them:"
   ]
  },
  {
   "cell_type": "code",
   "execution_count": null,
   "metadata": {},
   "outputs": [],
   "source": [
    "functions = [a_parabola, a_bimodal]\n",
    "x = 0:0.01:1\n",
    "n_steps = 100000\n",
    "funcplots = []\n",
    "\n",
    "for (i, funct) in enumerate(functions)\n",
    "    walk = continuous_metrop(funct, n_steps)\n",
    "    walk_dist = fit(Histogram, walk, 0:0.05:1);\n",
    "    p = plot(x, funct.(x), title=\"Original function\")\n",
    "    push!(funcplots, p)\n",
    "\n",
    "    p = plot(walk_dist, title=\"Estimated\")\n",
    "    push!(funcplots, p)\n",
    "\n",
    "end\n",
    "plot(funcplots..., layout=(2, 2))"
   ]
  },
  {
   "cell_type": "code",
   "execution_count": null,
   "metadata": {},
   "outputs": [],
   "source": []
  }
 ],
 "metadata": {
  "kernelspec": {
   "display_name": "Julia 1.3.1",
   "language": "julia",
   "name": "julia-1.3"
  },
  "language_info": {
   "file_extension": ".jl",
   "mimetype": "application/julia",
   "name": "julia",
   "version": "1.3.1"
  }
 },
 "nbformat": 4,
 "nbformat_minor": 2
}
